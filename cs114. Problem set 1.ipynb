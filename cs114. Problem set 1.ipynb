{
 "cells": [
  {
   "cell_type": "code",
   "execution_count": 13,
   "id": "2194eb52",
   "metadata": {},
   "outputs": [],
   "source": [
    "import scipy.stats\n",
    "import matplotlib.pyplot as plt\n",
    "import numpy as np"
   ]
  },
  {
   "cell_type": "code",
   "execution_count": 56,
   "id": "b636e3e4",
   "metadata": {},
   "outputs": [
    {
     "name": "stdout",
     "output_type": "stream",
     "text": [
      "the probability of getting at least 1 sussessful outcome with python:  0.4880000000000001\n",
      "the probability of getting at least 1 sussessful outcome analytically:  0.4880000000000001\n"
     ]
    }
   ],
   "source": [
    "#problem 1\n",
    "#part1\n",
    "\n",
    "n = 3\n",
    "p = 0.2\n",
    "def probability_calc(n,p):\n",
    "    \"\"\"\n",
    "    input:\n",
    "    n(integer) - number of trials \n",
    "    p(float) - probability of sucessful outcome \n",
    "    \n",
    "    output:\n",
    "    total(float) - probability of getting at least 1 sucesssful outcome \n",
    "    \"\"\"\n",
    "    binom_dist = scipy.stats.binom(n, p)\n",
    "    total = 0\n",
    "    for i in range(1,4):\n",
    "        total += binom_dist.pmf(i)\n",
    "    return total \n",
    "\n",
    "print(\"the probability of getting at least 1 sussessful outcome with python: \",probability_calc(n,p))\n",
    "print(\"the probability of getting at least 1 sussessful outcome analytically: \",3*p - 3*p**2+p**3)\n"
   ]
  },
  {
   "cell_type": "code",
   "execution_count": 57,
   "id": "80231d43",
   "metadata": {},
   "outputs": [
    {
     "name": "stdout",
     "output_type": "stream",
     "text": [
      "theoretical result =  0.6569999999999999\n",
      "simulated result =  0.657325\n"
     ]
    }
   ],
   "source": [
    "#problem 1\n",
    "#part2\n",
    "\n",
    "\n",
    "trials = 1000000\n",
    "p = 0.3\n",
    "\n",
    "def testings_3(trials,p):\n",
    "    \"\"\"\n",
    "    input:\n",
    "    trials(integer) - number of trials \n",
    "    p(float) - probability of sucessful outcome \n",
    "    \n",
    "    output:\n",
    "    total(float) - probability of getting at least 1 sucesssful outcome \n",
    "    \"\"\"\n",
    "    count = 0 \n",
    "    for i in range(trials):\n",
    "        positives = 0 \n",
    "        #doing 3 tests \n",
    "        for i in range(3):\n",
    "            if np.random.uniform() < p: \n",
    "                positives +=1 \n",
    "        if positives >=1:\n",
    "            count +=1 \n",
    "    total = count/trials\n",
    "    return total\n",
    "\n",
    "print(\"theoretical result = \", 3*p - 3*p**2+p**3)\n",
    "print(\"simulated result = \", testings_3(trials,p))\n",
    "    "
   ]
  },
  {
   "cell_type": "code",
   "execution_count": 67,
   "id": "b4a041ec",
   "metadata": {},
   "outputs": [
    {
     "name": "stdout",
     "output_type": "stream",
     "text": [
      "result for p = 0.6 0.936\n",
      "result for p = 0.001 0.003\n"
     ]
    }
   ],
   "source": [
    "#problem 1\n",
    "#part3 \n",
    "\n",
    "# Number of trials\n",
    "n = 3\n",
    "\n",
    "#probabilities \n",
    "p1 = 0.6\n",
    "p2 = 0.001\n",
    "\n",
    "result1 = 3 * p1 - 3 * p1**2 + p1**3\n",
    "result2 = 3 * p2 - 3 * p2**2 + p2**3\n",
    "\n",
    "\n",
    "print(\"result for p = 0.6\", round(result1,3))\n",
    "print(\"result for p = 0.001\", round(result2,3))\n",
    "\n"
   ]
  },
  {
   "cell_type": "code",
   "execution_count": 83,
   "id": "f60dc10e",
   "metadata": {},
   "outputs": [
    {
     "name": "stdout",
     "output_type": "stream",
     "text": [
      "simulated probability of getting '6' 6 times in a row =  3e-05\n",
      "simulated probability of getting [1,2,3,4,5,6] =  3e-05\n"
     ]
    }
   ],
   "source": [
    "#problem 2\n",
    "#part1\n",
    "#in sake of run time I decreased the length of the list from 12 to 6 \n",
    "\n",
    "trials = 100000\n",
    "p= 1/6\n",
    "expected_result1 = [6]*6\n",
    "\n",
    "def rolling(trials,p,expected_result):\n",
    "    \"\"\"\n",
    "    input:\n",
    "    trials(integer) - number of trials \n",
    "    p(float) - probability of sucessful outcome\n",
    "    expected_result(list) - list of integers representing the expected sequence of outcomes \n",
    "    \n",
    "    output:\n",
    "    total(float) - probability of getting expected result \n",
    "    \"\"\"\n",
    "    count = 0 \n",
    "    for i in range(trials):\n",
    "        result = []\n",
    "        #rolling 12 times \n",
    "        for i in range(6):\n",
    "            roll = np.random.randint(1,7)\n",
    "            result.append(roll)\n",
    "        if result == expected_result:\n",
    "            count +=1 \n",
    "    total = count/trials\n",
    "    return total\n",
    "\n",
    "\n",
    "print(\"simulated probability of getting '6' 6 times in a row = \", rolling(trials,p,expected_result1))\n",
    "print(\"simulated probability of getting [1,2,3,4,5,6] = \", rolling(trials,p,[1,2,3,4,5,6]))\n",
    "\n"
   ]
  },
  {
   "cell_type": "code",
   "execution_count": null,
   "id": "001b02fc",
   "metadata": {},
   "outputs": [],
   "source": [
    "#problem 3"
   ]
  }
 ],
 "metadata": {
  "kernelspec": {
   "display_name": "Python 3 (ipykernel)",
   "language": "python",
   "name": "python3"
  },
  "language_info": {
   "codemirror_mode": {
    "name": "ipython",
    "version": 3
   },
   "file_extension": ".py",
   "mimetype": "text/x-python",
   "name": "python",
   "nbconvert_exporter": "python",
   "pygments_lexer": "ipython3",
   "version": "3.9.13"
  }
 },
 "nbformat": 4,
 "nbformat_minor": 5
}
